{
 "cells": [
  {
   "cell_type": "code",
   "execution_count": 1,
   "metadata": {
    "collapsed": true
   },
   "outputs": [],
   "source": [
    "import pandas as pd\n",
    "\n",
    "df = pd.read_csv('/Users/haquochung/OneDrive/OneDrive - RMIT University/Home/PyCharm/Vietnam quant/Data_collection/VN30 historical price').dropna()"
   ]
  },
  {
   "cell_type": "code",
   "execution_count": 2,
   "outputs": [
    {
     "data": {
      "text/plain": "           date    ACB    BID   BVH    CTG    FPT    GAS    GVR    HDB    HPG  \\\n0    2018-06-04  42.00  30.50  94.9  27.95  47.25   92.3   8.80  43.00  60.00   \n1    2018-06-05  41.70  30.40  94.9  28.40  47.80   98.7   8.40  43.20  59.00   \n2    2018-06-06  43.30  31.80  95.1  28.95  48.50  102.9   8.40  43.20  60.80   \n3    2018-06-07  42.40  31.20  95.9  28.35  47.80   99.6   8.80  44.60  61.90   \n4    2018-06-08  43.10  31.50  95.9  28.55  47.95   97.5   8.40  43.40  61.30   \n..          ...    ...    ...   ...    ...    ...    ...    ...    ...    ...   \n888  2022-01-13  33.35  44.00  54.0  35.15  92.10  105.0  35.50  30.80  46.70   \n889  2022-01-14  33.05  44.25  54.2  35.45  91.30  105.5  35.70  30.60  46.25   \n890  2022-01-17  32.75  43.65  52.7  35.00  89.00  104.6  33.25  29.00  44.70   \n891  2022-01-18  32.80  44.90  51.6  34.55  88.10  107.0  31.10  29.55  44.00   \n892  2022-01-19  32.80  44.90  51.6  34.55  88.10  107.0  31.10  29.55  44.00   \n\n     ...    STB     TCB    TPB   VCB    VHM    VIC    VJC    VNM    VPB   VRE  \n0    ...  12.55  102.40  29.50  59.3  117.9  120.0  170.3  175.0  49.20  45.6  \n1    ...  12.90   96.00  29.40  58.6  118.0  121.1  173.0  177.0  49.40  45.3  \n2    ...  13.30   92.00  28.90  59.1  120.0  124.1  174.6  175.0  49.45  45.3  \n3    ...  13.00   98.40  28.90  58.7  120.0  124.2  179.0  177.3  49.50  45.0  \n4    ...  12.90  105.20  28.65  59.7  120.0  124.2  179.0  177.0  51.80  44.5  \n..   ...    ...     ...    ...   ...    ...    ...    ...    ...    ...   ...  \n888  ...  34.30   50.50  42.15  81.9   82.2   98.8  122.0   83.1  35.25  33.8  \n889  ...  35.00   49.75  41.90  83.4   82.2   98.9  122.0   84.7  34.85  34.4  \n890  ...  32.60   48.60  40.20  86.2   79.1   97.0  120.5   82.9  33.05  32.0  \n891  ...  33.90   48.75  38.90  87.6   77.0   95.9  124.5   83.4  33.25  32.4  \n892  ...  33.90   48.75  38.90  87.6   77.0   95.9  124.5   83.4  33.25  32.4  \n\n[893 rows x 31 columns]",
      "text/html": "<div>\n<style scoped>\n    .dataframe tbody tr th:only-of-type {\n        vertical-align: middle;\n    }\n\n    .dataframe tbody tr th {\n        vertical-align: top;\n    }\n\n    .dataframe thead th {\n        text-align: right;\n    }\n</style>\n<table border=\"1\" class=\"dataframe\">\n  <thead>\n    <tr style=\"text-align: right;\">\n      <th></th>\n      <th>date</th>\n      <th>ACB</th>\n      <th>BID</th>\n      <th>BVH</th>\n      <th>CTG</th>\n      <th>FPT</th>\n      <th>GAS</th>\n      <th>GVR</th>\n      <th>HDB</th>\n      <th>HPG</th>\n      <th>...</th>\n      <th>STB</th>\n      <th>TCB</th>\n      <th>TPB</th>\n      <th>VCB</th>\n      <th>VHM</th>\n      <th>VIC</th>\n      <th>VJC</th>\n      <th>VNM</th>\n      <th>VPB</th>\n      <th>VRE</th>\n    </tr>\n  </thead>\n  <tbody>\n    <tr>\n      <th>0</th>\n      <td>2018-06-04</td>\n      <td>42.00</td>\n      <td>30.50</td>\n      <td>94.9</td>\n      <td>27.95</td>\n      <td>47.25</td>\n      <td>92.3</td>\n      <td>8.80</td>\n      <td>43.00</td>\n      <td>60.00</td>\n      <td>...</td>\n      <td>12.55</td>\n      <td>102.40</td>\n      <td>29.50</td>\n      <td>59.3</td>\n      <td>117.9</td>\n      <td>120.0</td>\n      <td>170.3</td>\n      <td>175.0</td>\n      <td>49.20</td>\n      <td>45.6</td>\n    </tr>\n    <tr>\n      <th>1</th>\n      <td>2018-06-05</td>\n      <td>41.70</td>\n      <td>30.40</td>\n      <td>94.9</td>\n      <td>28.40</td>\n      <td>47.80</td>\n      <td>98.7</td>\n      <td>8.40</td>\n      <td>43.20</td>\n      <td>59.00</td>\n      <td>...</td>\n      <td>12.90</td>\n      <td>96.00</td>\n      <td>29.40</td>\n      <td>58.6</td>\n      <td>118.0</td>\n      <td>121.1</td>\n      <td>173.0</td>\n      <td>177.0</td>\n      <td>49.40</td>\n      <td>45.3</td>\n    </tr>\n    <tr>\n      <th>2</th>\n      <td>2018-06-06</td>\n      <td>43.30</td>\n      <td>31.80</td>\n      <td>95.1</td>\n      <td>28.95</td>\n      <td>48.50</td>\n      <td>102.9</td>\n      <td>8.40</td>\n      <td>43.20</td>\n      <td>60.80</td>\n      <td>...</td>\n      <td>13.30</td>\n      <td>92.00</td>\n      <td>28.90</td>\n      <td>59.1</td>\n      <td>120.0</td>\n      <td>124.1</td>\n      <td>174.6</td>\n      <td>175.0</td>\n      <td>49.45</td>\n      <td>45.3</td>\n    </tr>\n    <tr>\n      <th>3</th>\n      <td>2018-06-07</td>\n      <td>42.40</td>\n      <td>31.20</td>\n      <td>95.9</td>\n      <td>28.35</td>\n      <td>47.80</td>\n      <td>99.6</td>\n      <td>8.80</td>\n      <td>44.60</td>\n      <td>61.90</td>\n      <td>...</td>\n      <td>13.00</td>\n      <td>98.40</td>\n      <td>28.90</td>\n      <td>58.7</td>\n      <td>120.0</td>\n      <td>124.2</td>\n      <td>179.0</td>\n      <td>177.3</td>\n      <td>49.50</td>\n      <td>45.0</td>\n    </tr>\n    <tr>\n      <th>4</th>\n      <td>2018-06-08</td>\n      <td>43.10</td>\n      <td>31.50</td>\n      <td>95.9</td>\n      <td>28.55</td>\n      <td>47.95</td>\n      <td>97.5</td>\n      <td>8.40</td>\n      <td>43.40</td>\n      <td>61.30</td>\n      <td>...</td>\n      <td>12.90</td>\n      <td>105.20</td>\n      <td>28.65</td>\n      <td>59.7</td>\n      <td>120.0</td>\n      <td>124.2</td>\n      <td>179.0</td>\n      <td>177.0</td>\n      <td>51.80</td>\n      <td>44.5</td>\n    </tr>\n    <tr>\n      <th>...</th>\n      <td>...</td>\n      <td>...</td>\n      <td>...</td>\n      <td>...</td>\n      <td>...</td>\n      <td>...</td>\n      <td>...</td>\n      <td>...</td>\n      <td>...</td>\n      <td>...</td>\n      <td>...</td>\n      <td>...</td>\n      <td>...</td>\n      <td>...</td>\n      <td>...</td>\n      <td>...</td>\n      <td>...</td>\n      <td>...</td>\n      <td>...</td>\n      <td>...</td>\n      <td>...</td>\n    </tr>\n    <tr>\n      <th>888</th>\n      <td>2022-01-13</td>\n      <td>33.35</td>\n      <td>44.00</td>\n      <td>54.0</td>\n      <td>35.15</td>\n      <td>92.10</td>\n      <td>105.0</td>\n      <td>35.50</td>\n      <td>30.80</td>\n      <td>46.70</td>\n      <td>...</td>\n      <td>34.30</td>\n      <td>50.50</td>\n      <td>42.15</td>\n      <td>81.9</td>\n      <td>82.2</td>\n      <td>98.8</td>\n      <td>122.0</td>\n      <td>83.1</td>\n      <td>35.25</td>\n      <td>33.8</td>\n    </tr>\n    <tr>\n      <th>889</th>\n      <td>2022-01-14</td>\n      <td>33.05</td>\n      <td>44.25</td>\n      <td>54.2</td>\n      <td>35.45</td>\n      <td>91.30</td>\n      <td>105.5</td>\n      <td>35.70</td>\n      <td>30.60</td>\n      <td>46.25</td>\n      <td>...</td>\n      <td>35.00</td>\n      <td>49.75</td>\n      <td>41.90</td>\n      <td>83.4</td>\n      <td>82.2</td>\n      <td>98.9</td>\n      <td>122.0</td>\n      <td>84.7</td>\n      <td>34.85</td>\n      <td>34.4</td>\n    </tr>\n    <tr>\n      <th>890</th>\n      <td>2022-01-17</td>\n      <td>32.75</td>\n      <td>43.65</td>\n      <td>52.7</td>\n      <td>35.00</td>\n      <td>89.00</td>\n      <td>104.6</td>\n      <td>33.25</td>\n      <td>29.00</td>\n      <td>44.70</td>\n      <td>...</td>\n      <td>32.60</td>\n      <td>48.60</td>\n      <td>40.20</td>\n      <td>86.2</td>\n      <td>79.1</td>\n      <td>97.0</td>\n      <td>120.5</td>\n      <td>82.9</td>\n      <td>33.05</td>\n      <td>32.0</td>\n    </tr>\n    <tr>\n      <th>891</th>\n      <td>2022-01-18</td>\n      <td>32.80</td>\n      <td>44.90</td>\n      <td>51.6</td>\n      <td>34.55</td>\n      <td>88.10</td>\n      <td>107.0</td>\n      <td>31.10</td>\n      <td>29.55</td>\n      <td>44.00</td>\n      <td>...</td>\n      <td>33.90</td>\n      <td>48.75</td>\n      <td>38.90</td>\n      <td>87.6</td>\n      <td>77.0</td>\n      <td>95.9</td>\n      <td>124.5</td>\n      <td>83.4</td>\n      <td>33.25</td>\n      <td>32.4</td>\n    </tr>\n    <tr>\n      <th>892</th>\n      <td>2022-01-19</td>\n      <td>32.80</td>\n      <td>44.90</td>\n      <td>51.6</td>\n      <td>34.55</td>\n      <td>88.10</td>\n      <td>107.0</td>\n      <td>31.10</td>\n      <td>29.55</td>\n      <td>44.00</td>\n      <td>...</td>\n      <td>33.90</td>\n      <td>48.75</td>\n      <td>38.90</td>\n      <td>87.6</td>\n      <td>77.0</td>\n      <td>95.9</td>\n      <td>124.5</td>\n      <td>83.4</td>\n      <td>33.25</td>\n      <td>32.4</td>\n    </tr>\n  </tbody>\n</table>\n<p>893 rows × 31 columns</p>\n</div>"
     },
     "execution_count": 2,
     "metadata": {},
     "output_type": "execute_result"
    }
   ],
   "source": [
    "df"
   ],
   "metadata": {
    "collapsed": false,
    "pycharm": {
     "name": "#%%\n"
    }
   }
  },
  {
   "cell_type": "code",
   "execution_count": null,
   "outputs": [],
   "source": [],
   "metadata": {
    "collapsed": false,
    "pycharm": {
     "name": "#%%\n"
    }
   }
  }
 ],
 "metadata": {
  "kernelspec": {
   "display_name": "Python 3",
   "language": "python",
   "name": "python3"
  },
  "language_info": {
   "codemirror_mode": {
    "name": "ipython",
    "version": 2
   },
   "file_extension": ".py",
   "mimetype": "text/x-python",
   "name": "python",
   "nbconvert_exporter": "python",
   "pygments_lexer": "ipython2",
   "version": "2.7.6"
  }
 },
 "nbformat": 4,
 "nbformat_minor": 0
}