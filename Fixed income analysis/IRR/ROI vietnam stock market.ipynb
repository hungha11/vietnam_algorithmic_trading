{
 "cells": [
  {
   "cell_type": "code",
   "execution_count": 23,
   "metadata": {
    "collapsed": true
   },
   "outputs": [
    {
     "name": "stdout",
     "output_type": "stream",
     "text": [
      "ERROR! Session/line number was not unique in database. History logging moved to new session 197\n"
     ]
    }
   ],
   "source": [
    "import pandas as pd\n",
    "import vnquant.DataLoader as dl\n",
    "import numpy_financial as npf"
   ]
  },
  {
   "cell_type": "code",
   "execution_count": 76,
   "outputs": [
    {
     "name": "stderr",
     "output_type": "stream",
     "text": [
      "2022-01-18 12:29:49,469 : INFO : data MSN from 2021-01-01 to 2021-12-31 have already cloned!\n",
      "2022-01-18 12:29:49,697 : INFO : data MCH from 2021-01-01 to 2021-12-31 have already cloned!\n",
      "2022-01-18 12:29:50,164 : INFO : data PET from 2021-01-01 to 2021-12-31 have already cloned!\n",
      "2022-01-18 12:29:50,402 : INFO : data DGW from 2021-01-01 to 2021-12-31 have already cloned!\n",
      "2022-01-18 12:29:50,612 : INFO : data PNJ from 2021-01-01 to 2021-12-31 have already cloned!\n",
      "2022-01-18 12:29:50,848 : INFO : data MWG from 2021-01-01 to 2021-12-31 have already cloned!\n"
     ]
    },
    {
     "data": {
      "text/plain": "Symbols       MSN    MCH    PET    DGW   PNJ    MWG\ndate                                               \n2021-01-04   88.9   94.5  16.35   85.3  81.7  120.6\n2021-01-05   89.3   94.0  17.10   82.9  81.3  121.9\n2021-01-06   88.3   94.5  17.00   82.5  81.2  121.3\n2021-01-07   92.0   93.5  17.35   82.5  81.6  120.8\n2021-01-08   93.1   97.0  17.40   81.9  82.4  121.8\n...           ...    ...    ...    ...   ...    ...\n2021-12-27  169.0  114.0  37.00  129.8  96.0  134.9\n2021-12-28  171.5  112.6  36.50  129.0  95.6  135.8\n2021-12-29  172.0  114.0  36.60  126.9  93.2  134.4\n2021-12-30  171.5  112.9  37.30  124.2  92.5  134.3\n2021-12-31  171.0  116.5  36.55  123.9  96.2  135.9\n\n[250 rows x 6 columns]",
      "text/html": "<div>\n<style scoped>\n    .dataframe tbody tr th:only-of-type {\n        vertical-align: middle;\n    }\n\n    .dataframe tbody tr th {\n        vertical-align: top;\n    }\n\n    .dataframe thead th {\n        text-align: right;\n    }\n</style>\n<table border=\"1\" class=\"dataframe\">\n  <thead>\n    <tr style=\"text-align: right;\">\n      <th>Symbols</th>\n      <th>MSN</th>\n      <th>MCH</th>\n      <th>PET</th>\n      <th>DGW</th>\n      <th>PNJ</th>\n      <th>MWG</th>\n    </tr>\n    <tr>\n      <th>date</th>\n      <th></th>\n      <th></th>\n      <th></th>\n      <th></th>\n      <th></th>\n      <th></th>\n    </tr>\n  </thead>\n  <tbody>\n    <tr>\n      <th>2021-01-04</th>\n      <td>88.9</td>\n      <td>94.5</td>\n      <td>16.35</td>\n      <td>85.3</td>\n      <td>81.7</td>\n      <td>120.6</td>\n    </tr>\n    <tr>\n      <th>2021-01-05</th>\n      <td>89.3</td>\n      <td>94.0</td>\n      <td>17.10</td>\n      <td>82.9</td>\n      <td>81.3</td>\n      <td>121.9</td>\n    </tr>\n    <tr>\n      <th>2021-01-06</th>\n      <td>88.3</td>\n      <td>94.5</td>\n      <td>17.00</td>\n      <td>82.5</td>\n      <td>81.2</td>\n      <td>121.3</td>\n    </tr>\n    <tr>\n      <th>2021-01-07</th>\n      <td>92.0</td>\n      <td>93.5</td>\n      <td>17.35</td>\n      <td>82.5</td>\n      <td>81.6</td>\n      <td>120.8</td>\n    </tr>\n    <tr>\n      <th>2021-01-08</th>\n      <td>93.1</td>\n      <td>97.0</td>\n      <td>17.40</td>\n      <td>81.9</td>\n      <td>82.4</td>\n      <td>121.8</td>\n    </tr>\n    <tr>\n      <th>...</th>\n      <td>...</td>\n      <td>...</td>\n      <td>...</td>\n      <td>...</td>\n      <td>...</td>\n      <td>...</td>\n    </tr>\n    <tr>\n      <th>2021-12-27</th>\n      <td>169.0</td>\n      <td>114.0</td>\n      <td>37.00</td>\n      <td>129.8</td>\n      <td>96.0</td>\n      <td>134.9</td>\n    </tr>\n    <tr>\n      <th>2021-12-28</th>\n      <td>171.5</td>\n      <td>112.6</td>\n      <td>36.50</td>\n      <td>129.0</td>\n      <td>95.6</td>\n      <td>135.8</td>\n    </tr>\n    <tr>\n      <th>2021-12-29</th>\n      <td>172.0</td>\n      <td>114.0</td>\n      <td>36.60</td>\n      <td>126.9</td>\n      <td>93.2</td>\n      <td>134.4</td>\n    </tr>\n    <tr>\n      <th>2021-12-30</th>\n      <td>171.5</td>\n      <td>112.9</td>\n      <td>37.30</td>\n      <td>124.2</td>\n      <td>92.5</td>\n      <td>134.3</td>\n    </tr>\n    <tr>\n      <th>2021-12-31</th>\n      <td>171.0</td>\n      <td>116.5</td>\n      <td>36.55</td>\n      <td>123.9</td>\n      <td>96.2</td>\n      <td>135.9</td>\n    </tr>\n  </tbody>\n</table>\n<p>250 rows × 6 columns</p>\n</div>"
     },
     "execution_count": 76,
     "metadata": {},
     "output_type": "execute_result"
    }
   ],
   "source": [
    "symbol_list = ['MSN','MCH','PET','DGW','PNJ','MWG']\n",
    "start = '2021-01-01'\n",
    "end = '2021-12-31'\n",
    "loader = dl.DataLoader(symbol_list, start,end, data_source='VND', minimal=True)\n",
    "data = loader.download()\n",
    "close_data = data['close'].dropna()\n",
    "close_data"
   ],
   "metadata": {
    "collapsed": false,
    "pycharm": {
     "name": "#%%\n"
    }
   }
  },
  {
   "cell_type": "code",
   "execution_count": 77,
   "outputs": [
    {
     "data": {
      "text/plain": "Symbols       MSN    MCH    PET    DGW   PNJ    MWG\ndate                                               \n2021-01-04   88.9   94.5  16.35   85.3  81.7  120.6\n2021-01-05   89.3   94.0  17.10   82.9  81.3  121.9\n2021-01-06   88.3   94.5  17.00   82.5  81.2  121.3\n2021-01-07   92.0   93.5  17.35   82.5  81.6  120.8\n2021-01-08   93.1   97.0  17.40   81.9  82.4  121.8\n...           ...    ...    ...    ...   ...    ...\n2021-12-27  169.0  114.0  37.00  129.8  96.0  134.9\n2021-12-28  171.5  112.6  36.50  129.0  95.6  135.8\n2021-12-29  172.0  114.0  36.60  126.9  93.2  134.4\n2021-12-30  171.5  112.9  37.30  124.2  92.5  134.3\n2021-12-31  171.0  116.5  36.55  123.9  96.2  135.9\n\n[250 rows x 6 columns]",
      "text/html": "<div>\n<style scoped>\n    .dataframe tbody tr th:only-of-type {\n        vertical-align: middle;\n    }\n\n    .dataframe tbody tr th {\n        vertical-align: top;\n    }\n\n    .dataframe thead th {\n        text-align: right;\n    }\n</style>\n<table border=\"1\" class=\"dataframe\">\n  <thead>\n    <tr style=\"text-align: right;\">\n      <th>Symbols</th>\n      <th>MSN</th>\n      <th>MCH</th>\n      <th>PET</th>\n      <th>DGW</th>\n      <th>PNJ</th>\n      <th>MWG</th>\n    </tr>\n    <tr>\n      <th>date</th>\n      <th></th>\n      <th></th>\n      <th></th>\n      <th></th>\n      <th></th>\n      <th></th>\n    </tr>\n  </thead>\n  <tbody>\n    <tr>\n      <th>2021-01-04</th>\n      <td>88.9</td>\n      <td>94.5</td>\n      <td>16.35</td>\n      <td>85.3</td>\n      <td>81.7</td>\n      <td>120.6</td>\n    </tr>\n    <tr>\n      <th>2021-01-05</th>\n      <td>89.3</td>\n      <td>94.0</td>\n      <td>17.10</td>\n      <td>82.9</td>\n      <td>81.3</td>\n      <td>121.9</td>\n    </tr>\n    <tr>\n      <th>2021-01-06</th>\n      <td>88.3</td>\n      <td>94.5</td>\n      <td>17.00</td>\n      <td>82.5</td>\n      <td>81.2</td>\n      <td>121.3</td>\n    </tr>\n    <tr>\n      <th>2021-01-07</th>\n      <td>92.0</td>\n      <td>93.5</td>\n      <td>17.35</td>\n      <td>82.5</td>\n      <td>81.6</td>\n      <td>120.8</td>\n    </tr>\n    <tr>\n      <th>2021-01-08</th>\n      <td>93.1</td>\n      <td>97.0</td>\n      <td>17.40</td>\n      <td>81.9</td>\n      <td>82.4</td>\n      <td>121.8</td>\n    </tr>\n    <tr>\n      <th>...</th>\n      <td>...</td>\n      <td>...</td>\n      <td>...</td>\n      <td>...</td>\n      <td>...</td>\n      <td>...</td>\n    </tr>\n    <tr>\n      <th>2021-12-27</th>\n      <td>169.0</td>\n      <td>114.0</td>\n      <td>37.00</td>\n      <td>129.8</td>\n      <td>96.0</td>\n      <td>134.9</td>\n    </tr>\n    <tr>\n      <th>2021-12-28</th>\n      <td>171.5</td>\n      <td>112.6</td>\n      <td>36.50</td>\n      <td>129.0</td>\n      <td>95.6</td>\n      <td>135.8</td>\n    </tr>\n    <tr>\n      <th>2021-12-29</th>\n      <td>172.0</td>\n      <td>114.0</td>\n      <td>36.60</td>\n      <td>126.9</td>\n      <td>93.2</td>\n      <td>134.4</td>\n    </tr>\n    <tr>\n      <th>2021-12-30</th>\n      <td>171.5</td>\n      <td>112.9</td>\n      <td>37.30</td>\n      <td>124.2</td>\n      <td>92.5</td>\n      <td>134.3</td>\n    </tr>\n    <tr>\n      <th>2021-12-31</th>\n      <td>171.0</td>\n      <td>116.5</td>\n      <td>36.55</td>\n      <td>123.9</td>\n      <td>96.2</td>\n      <td>135.9</td>\n    </tr>\n  </tbody>\n</table>\n<p>250 rows × 6 columns</p>\n</div>"
     },
     "execution_count": 77,
     "metadata": {},
     "output_type": "execute_result"
    }
   ],
   "source": [
    "data = pd.DataFrame(close_data)\n",
    "data"
   ],
   "metadata": {
    "collapsed": false,
    "pycharm": {
     "name": "#%%\n"
    }
   }
  },
  {
   "cell_type": "code",
   "execution_count": 78,
   "outputs": [
    {
     "name": "stdout",
     "output_type": "stream",
     "text": [
      "-1000000000\n",
      "[-1000000000]\n",
      "[88.9, 89.3, 88.3, 92.0, 93.1, 94.1, 94.0, 93.3, 92.3, 93.0, 95.1, 90.9, 90.9, 91.5, 93.3, 97.0, 95.5, 91.7, 85.3, 85.5, 82.0, 84.0, 88.9, 89.5, 89.6, 85.6, 88.7, 92.0, 95.1, 94.9, 94.6, 92.7, 91.0, 89.6, 90.3, 91.3, 90.9, 90.5, 88.4, 89.2, 87.4, 86.7, 87.0, 87.3, 87.3, 88.5, 88.0, 88.0, 89.7, 88.7, 88.1, 86.5, 85.1, 86.0, 85.9, 86.1, 88.5, 92.5, 92.3, 92.7, 93.0, 91.9, 93.8, 93.0, 92.1, 91.9, 94.2, 100.7, 100.0, 100.1, 107.1, 105.5, 98.2, 100.0, 95.0, 98.0, 99.0, 98.0, 95.9, 96.0, 95.6, 95.0, 101.6, 101.5, 104.0, 103.0, 108.1, 104.2, 105.1, 108.0, 113.6, 111.9, 112.0, 113.6, 113.6, 110.0, 112.5, 110.1, 107.0, 105.7, 105.0, 107.3, 104.5, 104.0, 104.5, 103.1, 106.0, 106.9, 106.5, 104.2, 103.0, 106.5, 108.7, 108.5, 106.8, 106.5, 106.4, 108.9, 108.5, 111.4, 113.5, 113.9, 111.6, 109.0, 116.0, 119.8, 116.9, 119.9, 115.0, 116.2, 115.0, 120.5, 119.4, 123.0, 122.0, 122.9, 119.0, 121.1, 125.5, 124.5, 127.7, 134.0, 136.2, 137.8, 136.0, 135.0, 134.5, 141.0, 138.5, 136.6, 134.0, 133.5, 133.5, 132.5, 134.5, 136.3, 133.8, 127.0, 128.5, 135.0, 134.0, 135.9, 132.6, 135.0, 133.3, 131.1, 129.8, 128.0, 131.0, 130.0, 130.6, 135.5, 144.9, 149.8, 146.0, 143.0, 143.5, 147.0, 145.0, 142.4, 135.0, 136.0, 141.0, 142.6, 140.0, 141.2, 141.2, 142.2, 141.7, 145.5, 147.0, 145.5, 143.1, 142.1, 141.0, 143.0, 141.0, 143.1, 140.2, 140.1, 140.4, 139.6, 146.8, 151.7, 150.9, 145.5, 145.5, 145.5, 147.9, 147.8, 152.0, 147.8, 147.7, 146.9, 149.6, 154.0, 152.0, 150.5, 148.0, 147.4, 149.9, 156.5, 157.0, 157.5, 157.5, 152.5, 149.2, 149.9, 152.0, 151.0, 151.0, 151.9, 151.1, 154.0, 153.7, 156.0, 157.0, 161.0, 160.0, 157.5, 162.0, 166.6, 170.0, 171.0, 171.0, 169.0, 171.5, 172.0, 171.5, 171.0]\n"
     ]
    }
   ],
   "source": [
    "initial_investment = -1000000000\n",
    "MSN = data['MSN']\n",
    "print(initial_investment)\n",
    "cashflow = [initial_investment]\n",
    "price =[]\n",
    "for i in MSN:\n",
    "    price.append(i)\n",
    "\n",
    "print(cashflow)\n",
    "print(price)"
   ],
   "metadata": {
    "collapsed": false,
    "pycharm": {
     "name": "#%%\n"
    }
   }
  },
  {
   "cell_type": "code",
   "execution_count": 79,
   "outputs": [
    {
     "data": {
      "text/plain": "11200.0"
     },
     "execution_count": 79,
     "metadata": {},
     "output_type": "execute_result"
    }
   ],
   "source": [
    "number_of_stock = round(-initial_investment/ (price[0]* 1000),-2)\n",
    "number_of_stock\n"
   ],
   "metadata": {
    "collapsed": false,
    "pycharm": {
     "name": "#%%\n"
    }
   }
  },
  {
   "cell_type": "code",
   "execution_count": 80,
   "outputs": [
    {
     "name": "stdout",
     "output_type": "stream",
     "text": [
      "92%\n"
     ]
    }
   ],
   "source": [
    "ROI = (price[-1]*number_of_stock-\n",
    "       (price[0]*number_of_stock))/(number_of_stock*price[0])\n",
    "ROI = round(ROI,2)\n",
    "ROI = \"{:.0%}\".format(ROI)\n",
    "print(ROI)\n"
   ],
   "metadata": {
    "collapsed": false,
    "pycharm": {
     "name": "#%%\n"
    }
   }
  },
  {
   "cell_type": "code",
   "execution_count": 81,
   "outputs": [],
   "source": [
    "def take_symbol(symbol):\n",
    "    symbol_string = data[symbol]\n",
    "    return symbol_string"
   ],
   "metadata": {
    "collapsed": false,
    "pycharm": {
     "name": "#%%\n"
    }
   }
  },
  {
   "cell_type": "code",
   "execution_count": 82,
   "outputs": [
    {
     "data": {
      "text/plain": "date\n2021-01-04    16.35\n2021-01-05    17.10\n2021-01-06    17.00\n2021-01-07    17.35\n2021-01-08    17.40\n              ...  \n2021-12-27    37.00\n2021-12-28    36.50\n2021-12-29    36.60\n2021-12-30    37.30\n2021-12-31    36.55\nName: PET, Length: 250, dtype: float64"
     },
     "execution_count": 82,
     "metadata": {},
     "output_type": "execute_result"
    }
   ],
   "source": [
    "take_symbol('PET')"
   ],
   "metadata": {
    "collapsed": false,
    "pycharm": {
     "name": "#%%\n"
    }
   }
  },
  {
   "cell_type": "code",
   "execution_count": 107,
   "outputs": [],
   "source": [
    "def calculate_ROI(symbol):\n",
    "    symbol_string = data[symbol]\n",
    "    price =[]\n",
    "    for i in symbol_string:\n",
    "        price.append(i)\n",
    "    number_of_stock = round(-initial_investment/ (price[0]* 1000),-2)\n",
    "\n",
    "    ROI = (price[-1]*number_of_stock-\n",
    "           (price[0]*number_of_stock))/(number_of_stock*price[0])\n",
    "    ROI = round(ROI,2)\n",
    "    ROI = \"{:.0%}\".format(ROI)\n",
    "    string = f'The ROI for {symbol} is: '\n",
    "    final = string + ROI\n",
    "    return  final\n",
    "\n",
    "def calculate_IRR(symbol):\n",
    "    symbol_string = data[symbol]\n",
    "    price =[]\n",
    "    cashflow = [-initial_investment]\n",
    "    for i in symbol_string:\n",
    "        price.append(i)\n",
    "    number_of_stock = round(-initial_investment/ (price[0]* 1000),-2)\n",
    "    year_end_value = price[-1] * number_of_stock *100\n",
    "    cashflow.append(year_end_value)\n",
    "    irr= npf.irr(cashflow)\n",
    "    return cashflow, irr\n",
    "\n",
    "\n"
   ],
   "metadata": {
    "collapsed": false,
    "pycharm": {
     "name": "#%%\n"
    }
   }
  },
  {
   "cell_type": "code",
   "execution_count": 108,
   "outputs": [
    {
     "name": "stdout",
     "output_type": "stream",
     "text": [
      "The ROI for MSN is: 92%\n",
      "The ROI for MCH is: 23%\n",
      "The ROI for PET is: 124%\n",
      "The ROI for DGW is: 45%\n",
      "The ROI for PNJ is: 18%\n",
      "The ROI for MWG is: 13%\n"
     ]
    }
   ],
   "source": [
    "for i in symbol_list:\n",
    "    print(calculate_ROI(i))"
   ],
   "metadata": {
    "collapsed": false,
    "pycharm": {
     "name": "#%%\n"
    }
   }
  },
  {
   "cell_type": "code",
   "execution_count": 109,
   "outputs": [
    {
     "data": {
      "text/plain": "([1000000000, 191520000.0], nan)"
     },
     "execution_count": 109,
     "metadata": {},
     "output_type": "execute_result"
    }
   ],
   "source": [
    "calculate_IRR('MSN')"
   ],
   "metadata": {
    "collapsed": false,
    "pycharm": {
     "name": "#%%\n"
    }
   }
  },
  {
   "cell_type": "code",
   "execution_count": 110,
   "outputs": [],
   "source": [
    "symbol_string = data['MSN']\n",
    "price =[]\n",
    "cashflow = [-initial_investment]\n",
    "for i in symbol_string:\n",
    "    price.append(i)\n",
    "number_of_stock = round(-initial_investment/ (price[0]* 1000),-2)\n",
    "year_end_value = price[-1] * number_of_stock *100\n",
    "cashflow.append(year_end_value)\n",
    "irr= npf.irr(cashflow)\n"
   ],
   "metadata": {
    "collapsed": false,
    "pycharm": {
     "name": "#%%\n"
    }
   }
  },
  {
   "cell_type": "code",
   "execution_count": 111,
   "outputs": [
    {
     "data": {
      "text/plain": "nan"
     },
     "execution_count": 111,
     "metadata": {},
     "output_type": "execute_result"
    }
   ],
   "source": [
    "irr"
   ],
   "metadata": {
    "collapsed": false,
    "pycharm": {
     "name": "#%%\n"
    }
   }
  },
  {
   "cell_type": "code",
   "execution_count": null,
   "outputs": [],
   "source": [],
   "metadata": {
    "collapsed": false,
    "pycharm": {
     "name": "#%%\n"
    }
   }
  }
 ],
 "metadata": {
  "kernelspec": {
   "display_name": "Python 3",
   "language": "python",
   "name": "python3"
  },
  "language_info": {
   "codemirror_mode": {
    "name": "ipython",
    "version": 2
   },
   "file_extension": ".py",
   "mimetype": "text/x-python",
   "name": "python",
   "nbconvert_exporter": "python",
   "pygments_lexer": "ipython2",
   "version": "2.7.6"
  }
 },
 "nbformat": 4,
 "nbformat_minor": 0
}